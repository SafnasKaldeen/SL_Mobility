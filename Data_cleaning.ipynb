{
 "cells": [
  {
   "cell_type": "markdown",
   "id": "33dae452",
   "metadata": {},
   "source": [
    "# **Battery SOH Forecasting**\n"
   ]
  },
  {
   "cell_type": "code",
   "execution_count": 247,
   "id": "5bd960c0",
   "metadata": {},
   "outputs": [],
   "source": [
    "import pandas as pd\n",
    "import numpy as np\n",
    "import os\n",
    "import joblib\n",
    "from sklearn.model_selection import train_test_split\n",
    "from xgboost import XGBRegressor\n",
    "from sklearn.metrics import mean_squared_error"
   ]
  },
  {
   "cell_type": "code",
   "execution_count": 248,
   "id": "43dad551",
   "metadata": {},
   "outputs": [],
   "source": [
    "# Load the dataset\n",
    "df_raw = pd.read_csv('./Data/RawData/combined_data.csv')\n",
    "\n",
    "\n",
    "# Ensure column names are usable\n",
    "df_raw.columns = df_raw.columns.astype(str).str.strip()\n",
    "df_raw = df_raw.loc[:, ~df_raw.columns.duplicated()]  # Remove duplicate columns if any\n",
    "\n",
    "# - `BatSOH` → State of Health\n",
    "# - `BatCycleCount` → Total charge-discharge cycles\n",
    "# - `BatVolt` → Voltage\n",
    "# - `BatTemp` → Temperature\n",
    "# - `BatPercent` → State of Charge\n",
    "# - `BatCurrent` → Current\n",
    "# - `Battery Error` → General error flag\n",
    "# - `Tbox Internal Bat Volt` → May represent auxiliary power system health\n",
    "\n",
    "# Other useful predictors:\n",
    "\n",
    "# - `ThrottlePercent` (usage intensity)\n",
    "# - `MotorTemp`, `InverterTemp` (related to load)\n",
    "# - `ctime` (timestamp for temporal patterns)\n",
    "# - `BrakeStatus`, `GearInformation` (driving mode behavior)\n",
    "\n",
    "# Copy and show top 20\n",
    "df_enhanced = df_raw.copy()\n",
    "features = ['tboxId', 'BatCycleCount', 'BatVolt', 'BatTemp', 'BatPercent', 'BatCurrent', 'Battery Error', 'Tbox Internal Bat Volt', 'ThrottlePercent', 'MotorTemp', 'InverterTemp', 'ctime', 'BrakeStatus', 'GearInformation', 'BatSOH']\n",
    "\n",
    "df_enhanced = df_enhanced[features]"
   ]
  },
  {
   "cell_type": "code",
   "execution_count": 249,
   "id": "fe89a08c",
   "metadata": {},
   "outputs": [
    {
     "name": "stdout",
     "output_type": "stream",
     "text": [
      "         tboxId  BatCycleCount  BatVolt  BatTemp  BatPercent  BatCurrent Battery Error  Tbox Internal Bat Volt  ThrottlePercent  MotorTemp  InverterTemp      ctime  BrakeStatus  GearInformation  BatSOH                Time_stamp\n",
      "865209069519313              0        0        0           0           0         Error                      80                0          0             0 1738377365            0                0       0 2025-02-01 08:06:05+05:30\n",
      "865209069519313              0        0        0           0           0         Error                      80                0          0             0 1738377365            0                0       0 2025-02-01 08:06:05+05:30\n",
      "865209069519313              0        0        0           0           0         Error                      80                0          0             0 1738377365            0                0       0 2025-02-01 08:06:05+05:30\n",
      "865209069519313              0        0        0           0           0         Error                      80                0          0             0 1738377365            0                0       0 2025-02-01 08:06:05+05:30\n",
      "865209069519313             17      666      258          90           0         Error                      81                0          0             0 1738377396            0                0      95 2025-02-01 08:06:36+05:30\n",
      "865209069519313             17      666      258          90           0         Error                      81                0          0             0 1738377396            0                0      95 2025-02-01 08:06:36+05:30\n",
      "865209069519313             17      666      258          90           0      No Error                      81                0          0             0 1738377426            0                0      95 2025-02-01 08:07:06+05:30\n",
      "865209069519313             17      666      258          90           0      No Error                      81                0          0             0 1738377426            0                0      95 2025-02-01 08:07:06+05:30\n",
      "865209069519313             17      666      258          90           0      No Error                      81                0          0             0 1738377426            0                0      95 2025-02-01 08:07:06+05:30\n",
      "865209069519313             17      666      258          90           0      No Error                      81                0          0             0 1738377426            0                0      95 2025-02-01 08:07:06+05:30\n",
      "865209069519313             17      666      258          90           0      No Error                      81                0          0             0 1738377456            0                0      95 2025-02-01 08:07:36+05:30\n",
      "865209069519313             17      666      258          90           0      No Error                      81                0          0             0 1738377456            0                0      95 2025-02-01 08:07:36+05:30\n",
      "865209069519313             17      666      258          90           0      No Error                      81                0          0             0 1738377456            0                0      95 2025-02-01 08:07:36+05:30\n",
      "865209069519313             17      666      258          90           0      No Error                      81                0          0             0 1738377456            0                0      95 2025-02-01 08:07:36+05:30\n",
      "865209069519313             17      666      258          90           0      No Error                      80                0          0             0 1738377486            0                0      95 2025-02-01 08:08:06+05:30\n",
      "865209069519313             17      666      258          90           0      No Error                      80                0          0             0 1738377486            0                0      95 2025-02-01 08:08:06+05:30\n",
      "865209069519313             17      666      258          90           0      No Error                      80                0          0             0 1738377486            0                0      95 2025-02-01 08:08:06+05:30\n",
      "865209069519313             17      666      258          90           0      No Error                      80                0          0             0 1738377486            0                0      95 2025-02-01 08:08:06+05:30\n",
      "865209069519313             17      666      258          90           0      No Error                      81                0          0             0 1738377516            0                0      95 2025-02-01 08:08:36+05:30\n",
      "865209069519313             17      666      258          90           0      No Error                      81                0          0             0 1738377516            0                0      95 2025-02-01 08:08:36+05:30\n"
     ]
    }
   ],
   "source": [
    "# print(df_enhanced['Battery Error'].value_counts())\n",
    "\n",
    "# Clean the 'Battery Error' column\n",
    "df_enhanced['Battery Error'] = df_enhanced['Battery Error'].str.strip()\n",
    "\n",
    "# Replace empty strings or NaN values with 'Error'\n",
    "df_enhanced['Battery Error'] = df_enhanced['Battery Error'].replace('', 'Error')\n",
    "\n",
    "# Convert Unix timestamp to datetime in UTC+5:30 (Asia/Kolkata)\n",
    "df_enhanced['Time_stamp'] = pd.to_datetime(df_enhanced['ctime'], unit='s')\n",
    "df_enhanced['Time_stamp'] = df_enhanced['Time_stamp'].dt.tz_localize('UTC').dt.tz_convert('Asia/Kolkata')\n",
    "\n",
    "# Now count the unique values\n",
    "# print(df_enhanced['Battery Error'].value_counts())\n",
    "\n",
    "print(df_enhanced.head(20).to_string(index=False))"
   ]
  },
  {
   "cell_type": "code",
   "execution_count": 250,
   "id": "cae5083b",
   "metadata": {},
   "outputs": [],
   "source": [
    "# sample_size = min(len(df_enhanced), 50000)\n",
    "# df_sampled = df_enhanced.sample(n=sample_size, random_state=1)\n",
    "df_enhanced.to_csv('battery_data.csv', index=False)"
   ]
  },
  {
   "cell_type": "code",
   "execution_count": 251,
   "id": "d02640cb",
   "metadata": {},
   "outputs": [
    {
     "data": {
      "text/plain": [
       "No Error    46094\n",
       "Error          18\n",
       "Name: Battery Error, dtype: int64"
      ]
     },
     "execution_count": 251,
     "metadata": {},
     "output_type": "execute_result"
    }
   ],
   "source": [
    "df_enhanced['Battery Error'].value_counts()"
   ]
  },
  {
   "cell_type": "code",
   "execution_count": 252,
   "id": "91a5fa2e",
   "metadata": {},
   "outputs": [],
   "source": [
    "\n",
    "\n",
    "\n",
    "# X = df[features]\n",
    "# y = df['BatSOH']\n",
    "\n",
    "# from IPython.display import display\n",
    "\n",
    "# Show the first 10 rows in a clean table\n",
    "# display(df.head(10))\n",
    "\n",
    "# # Train-test split\n",
    "# X_train, X_test, y_train, y_test = train_test_split(X, y, test_size=0.2, shuffle=False)\n",
    "\n",
    "# # Train model\n",
    "# model = XGBRegressor(n_estimators=100)\n",
    "# model.fit(X_train, y_train)\n",
    "\n",
    "# # Evaluate\n",
    "# y_pred = model.predict(X_test)\n",
    "# print(\"MSE:\", mean_squared_error(y_test, y_pred))\n",
    "\n",
    "# # Save model\n",
    "# joblib.dump(model, \"model/xgb_model.pkl\")"
   ]
  },
  {
   "cell_type": "markdown",
   "id": "66368d9b",
   "metadata": {},
   "source": [
    "### ✅ Online Learning using River"
   ]
  },
  {
   "cell_type": "code",
   "execution_count": 253,
   "id": "55b7800b",
   "metadata": {},
   "outputs": [
    {
     "ename": "ModuleNotFoundError",
     "evalue": "No module named 'river'",
     "output_type": "error",
     "traceback": [
      "\u001b[1;31m---------------------------------------------------------------------------\u001b[0m",
      "\u001b[1;31mModuleNotFoundError\u001b[0m                       Traceback (most recent call last)",
      "Cell \u001b[1;32mIn[253], line 1\u001b[0m\n\u001b[1;32m----> 1\u001b[0m \u001b[38;5;28;01mfrom\u001b[39;00m \u001b[38;5;21;01mriver\u001b[39;00m \u001b[38;5;28;01mimport\u001b[39;00m linear_model, preprocessing\n\u001b[0;32m      2\u001b[0m \u001b[38;5;28;01mimport\u001b[39;00m \u001b[38;5;21;01mjoblib\u001b[39;00m\n\u001b[0;32m      4\u001b[0m \u001b[38;5;66;03m# Load batch-trained model\u001b[39;00m\n",
      "\u001b[1;31mModuleNotFoundError\u001b[0m: No module named 'river'"
     ]
    }
   ],
   "source": [
    "from river import linear_model, preprocessing\n",
    "import joblib\n",
    "\n",
    "# Load batch-trained model\n",
    "xgb_model = joblib.load(\"model/xgb_model.pkl\")\n",
    "\n",
    "# River model for online learning\n",
    "river_model = preprocessing.StandardScaler() | linear_model.LinearRegression()\n",
    "\n",
    "# Simulate live data\n",
    "df = pd.read_csv(\"data/battery_data.csv\")\n",
    "df.columns = df.columns.str.strip()\n",
    "df['ctime'] = pd.to_datetime(df['ctime'], unit='s')\n",
    "df = df.dropna()\n",
    "\n",
    "features = ['BatTemp', 'BatCycleCount', 'BatVolt', 'ThrottlePercent', 'BatCurrent', 'MotorTemp']\n",
    "\n",
    "for i, row in df.iterrows():\n",
    "    X = {col: row[col] for col in features}\n",
    "    actual_soh = row['BatSOH']\n",
    "\n",
    "    # Predict with batch model\n",
    "    xgb_pred = xgb_model.predict([list(X.values())])[0]\n",
    "\n",
    "    # Online correction from River\n",
    "    river_correction = river_model.predict_one(X) or 0.0\n",
    "    final_pred = xgb_pred + river_correction\n",
    "\n",
    "    # Print result\n",
    "    print(f\"[{row['ctime']}] Final SOH Prediction: {round(final_pred,2)} (Actual: {actual_soh})\")\n",
    "\n",
    "    # Alert if SOH is too low\n",
    "    if final_pred < 80:\n",
    "        print(\"\\U0001F6A8 ALERT: Battery SOH will drop below 80!\")\n",
    "\n",
    "    # Update River model\n",
    "    river_model.learn_one(X, actual_soh - xgb_pred)"
   ]
  }
 ],
 "metadata": {
  "kernelspec": {
   "display_name": "Python 3",
   "language": "python",
   "name": "python3"
  },
  "language_info": {
   "codemirror_mode": {
    "name": "ipython",
    "version": 3
   },
   "file_extension": ".py",
   "mimetype": "text/x-python",
   "name": "python",
   "nbconvert_exporter": "python",
   "pygments_lexer": "ipython3",
   "version": "3.9.13"
  }
 },
 "nbformat": 4,
 "nbformat_minor": 5
}
